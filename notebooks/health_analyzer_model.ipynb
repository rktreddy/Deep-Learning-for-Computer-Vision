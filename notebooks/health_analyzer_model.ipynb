{
  "nbformat": 4,
  "nbformat_minor": 0,
  "metadata": {
    "colab": {
      "provenance": [],
      "include_colab_link": true
    },
    "kernelspec": {
      "name": "python3",
      "display_name": "Python 3"
    },
    "language_info": {
      "name": "python"
    }
  },
  "cells": [
    {
      "cell_type": "markdown",
      "metadata": {
        "id": "view-in-github",
        "colab_type": "text"
      },
      "source": [
        "<a href=\"https://colab.research.google.com/github/rktreddy/Deep-Learning-for-Computer-Vision/blob/main/notebooks/health_analyzer_model.ipynb\" target=\"_parent\"><img src=\"https://colab.research.google.com/assets/colab-badge.svg\" alt=\"Open In Colab\"/></a>"
      ]
    },
    {
      "cell_type": "code",
      "execution_count": null,
      "metadata": {
        "id": "XkiLfxg9pn_C"
      },
      "outputs": [],
      "source": [
        "import numpy as np\n",
        "import pandas as pd\n",
        "import matplotlib.pyplot as plt\n",
        "import seaborn as sns\n",
        "\n",
        "import torch\n",
        "import torch.nn as nn\n",
        "import torch.optim as optim\n",
        "import tqdm\n",
        "\n",
        "from imblearn.over_sampling import SMOTE\n",
        "from sklearn.model_selection import train_test_split\n",
        "from sklearn.metrics import classification_report"
      ]
    },
    {
      "cell_type": "code",
      "source": [
        "medical_condition = pd.read_csv('medical_conditions_dataset.csv')\n",
        "medical_condition.head()"
      ],
      "metadata": {
        "id": "BEcGgGXPqBDo"
      },
      "execution_count": null,
      "outputs": []
    },
    {
      "cell_type": "code",
      "source": [
        "df = medical_condition.copy()\n",
        "df['gender_smoking'] = df['gender'] + ' - ' + df['smoking_status']\n",
        "df.head()"
      ],
      "metadata": {
        "id": "7k2U8P9HqDrD"
      },
      "execution_count": null,
      "outputs": []
    },
    {
      "cell_type": "code",
      "source": [
        "from sklearn.impute import SimpleImputer\n",
        "\n",
        "mean_imputer = SimpleImputer(strategy='mean')\n",
        "\n",
        "df[['age', 'bmi']] = mean_imputer.fit_transform(df[['age', 'bmi']])\n",
        "print(df[[\"age\", \"bmi\"]].isna().sum())\n",
        "\n",
        "df['blood_pressure'] = df.groupby(\"gender_smoking\")['blood_pressure'].transform(lambda x: x.fillna(x.mean()))\n",
        "print(df[['blood_pressure']].isna().sum())\n",
        "\n",
        "df['glucose_levels'] = df.groupby(\"gender_smoking\")['glucose_levels'].transform(lambda x: x.fillna(x.mean()))\n",
        "print(df[['glucose_levels']].isna().sum())"
      ],
      "metadata": {
        "id": "ZekVLcF_qO_p"
      },
      "execution_count": null,
      "outputs": []
    },
    {
      "cell_type": "code",
      "source": [
        "df.drop(columns=[\"id\", \"full_name\", \"gender_smoking\"], inplace=True)\n",
        "df.head()"
      ],
      "metadata": {
        "id": "pizBiliuqR0A"
      },
      "execution_count": null,
      "outputs": []
    },
    {
      "cell_type": "markdown",
      "source": [
        "Handiling imbalanced data"
      ],
      "metadata": {
        "id": "KS0zZbS1uQCX"
      }
    },
    {
      "cell_type": "code",
      "source": [
        "X = df.drop(columns=[\"condition\"])\n",
        "y = df[\"condition\"]"
      ],
      "metadata": {
        "id": "vRmh_T6iqdsm",
        "outputId": "5121332b-cb68-4e2a-81ad-3de184d8e505",
        "colab": {
          "base_uri": "https://localhost:8080/",
          "height": 159
        }
      },
      "execution_count": 1,
      "outputs": [
        {
          "output_type": "error",
          "ename": "NameError",
          "evalue": "name 'df' is not defined",
          "traceback": [
            "\u001b[0;31m---------------------------------------------------------------------------\u001b[0m",
            "\u001b[0;31mNameError\u001b[0m                                 Traceback (most recent call last)",
            "\u001b[0;32m<ipython-input-1-62c6e7098cf0>\u001b[0m in \u001b[0;36m<cell line: 0>\u001b[0;34m()\u001b[0m\n\u001b[0;32m----> 1\u001b[0;31m \u001b[0mX\u001b[0m \u001b[0;34m=\u001b[0m \u001b[0mdf\u001b[0m\u001b[0;34m.\u001b[0m\u001b[0mdrop\u001b[0m\u001b[0;34m(\u001b[0m\u001b[0mcolumns\u001b[0m\u001b[0;34m=\u001b[0m\u001b[0;34m[\u001b[0m\u001b[0;34m\"condition\"\u001b[0m\u001b[0;34m]\u001b[0m\u001b[0;34m)\u001b[0m\u001b[0;34m\u001b[0m\u001b[0;34m\u001b[0m\u001b[0m\n\u001b[0m\u001b[1;32m      2\u001b[0m \u001b[0my\u001b[0m \u001b[0;34m=\u001b[0m \u001b[0mdf\u001b[0m\u001b[0;34m[\u001b[0m\u001b[0;34m\"condition\"\u001b[0m\u001b[0;34m]\u001b[0m\u001b[0;34m\u001b[0m\u001b[0;34m\u001b[0m\u001b[0m\n",
            "\u001b[0;31mNameError\u001b[0m: name 'df' is not defined"
          ]
        }
      ]
    },
    {
      "cell_type": "markdown",
      "source": [
        "Feature Encoding"
      ],
      "metadata": {
        "id": "bBZLZqizuYqF"
      }
    },
    {
      "cell_type": "code",
      "source": [
        "from sklearn.preprocessing import OneHotEncoder\n",
        "\n",
        "categorical_columns = X.select_dtypes(include=['object']).columns.tolist()\n",
        "\n",
        "# onehot_encoder = OneHotEncoder()\n",
        "onehot_encoder = OneHotEncoder(sparse_output=False, handle_unknown='ignore').set_output(transform='pandas')\n",
        "X_ohe = onehot_encoder.fit_transform(X[categorical_columns])\n",
        "# df_ohe.head()\n",
        "X = pd.concat([X, X_ohe], axis=1)\n",
        "X.drop(columns=categorical_columns, inplace=True)\n",
        "X.head()"
      ],
      "metadata": {
        "id": "-Lm2cHoOuTqE"
      },
      "execution_count": null,
      "outputs": []
    },
    {
      "cell_type": "markdown",
      "source": [
        "oversamopling using SMOTE"
      ],
      "metadata": {
        "id": "nNPmgM0mubh-"
      }
    },
    {
      "cell_type": "code",
      "source": [
        "X_train, X_test, y_train, y_test = train_test_split(X, y, test_size=0.3, random_state=42)\n",
        "\n",
        "smote = SMOTE(random_state=42)\n",
        "\n",
        "X_train_resampled, y_train_resampled = smote.fit_resample(X_train, y_train)"
      ],
      "metadata": {
        "id": "pBH3FsLnudXZ"
      },
      "execution_count": null,
      "outputs": []
    },
    {
      "cell_type": "markdown",
      "source": [
        "PyTorch"
      ],
      "metadata": {
        "id": "iumUZ5XIuxr5"
      }
    },
    {
      "cell_type": "code",
      "source": [
        "class Multiclass(nn.Module):\n",
        "    def __init__(self):\n",
        "        super().__init__()\n",
        "        self.hidden = nn.Linear(4, 8)\n",
        "        self.act = nn.ReLU()\n",
        "        self.output = nn.Linear(8, 3)\n",
        "\n",
        "    def forward(self, x):\n",
        "        x = self.act(self.hidden(x))\n",
        "        x = self.output(x)\n",
        "        return x"
      ],
      "metadata": {
        "id": "QhXveQcNuwS5"
      },
      "execution_count": null,
      "outputs": []
    }
  ]
}